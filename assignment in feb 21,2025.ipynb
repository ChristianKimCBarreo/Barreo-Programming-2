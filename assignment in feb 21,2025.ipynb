{
 "cells": [
  {
   "cell_type": "code",
   "execution_count": 11,
   "metadata": {},
   "outputs": [
    {
     "name": "stdout",
     "output_type": "stream",
     "text": [
      "\n",
      "Initial Products: [{'Name': 'apple', 'Price': 12.0}, {'Name': 'banana', 'Price': 23.0}, {'Name': 'grape', 'Price': 25.0}]\n",
      "\n",
      "Product price updated successfully!\n",
      "\n",
      "Updated Products: [{'Name': 'apple', 'Price': 12.0}, {'Name': 'banana', 'Price': 26.0}, {'Name': 'grape', 'Price': 25.0}]\n"
     ]
    }
   ],
   "source": [
    "\n",
    "product1 = input(\"Enter product 1: \")\n",
    "price1 = float(input(\"Enter price of product 1: \"))\n",
    "\n",
    "product2 = input(\"Enter product 2: \")\n",
    "price2 = float(input(\"Enter price of product 2: \"))\n",
    "\n",
    "product3 = input(\"Enter product 3: \")\n",
    "price3 = float(input(\"Enter price of product 3: \"))\n",
    "\n",
    "products = [\n",
    "    {'Name': product1, 'Price': price1},\n",
    "    {'Name': product2, 'Price': price2},\n",
    "    {'Name': product3, 'Price': price3},\n",
    "]\n",
    "\n",
    "print(f\"\\nInitial Products: {products}\")\n",
    "\n",
    "product_to_update = input(\"\\nWhich product do you want to update? \")\n",
    "\n",
    "for product in products:\n",
    "    if product[\"Name\"].lower() == product_to_update.lower():\n",
    "        new_price = float(input(f\"Enter the new price for {product_to_update}: \"))\n",
    "        product[\"Price\"] = new_price\n",
    "        print(\"\\nProduct price updated successfully!\")\n",
    "        break\n",
    "else:\n",
    "    print(\"\\nProduct not found.\")\n",
    "\n",
    "print(f\"\\nUpdated Products: {products}\")\n",
    "\n",
    "\n"
   ]
  }
 ],
 "metadata": {
  "kernelspec": {
   "display_name": "Python 3",
   "language": "python",
   "name": "python3"
  },
  "language_info": {
   "codemirror_mode": {
    "name": "ipython",
    "version": 3
   },
   "file_extension": ".py",
   "mimetype": "text/x-python",
   "name": "python",
   "nbconvert_exporter": "python",
   "pygments_lexer": "ipython3",
   "version": "3.11.9"
  }
 },
 "nbformat": 4,
 "nbformat_minor": 2
}
