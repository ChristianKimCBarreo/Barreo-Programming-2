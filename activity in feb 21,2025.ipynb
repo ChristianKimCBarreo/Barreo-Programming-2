{
 "cells": [
  {
   "cell_type": "code",
   "execution_count": 8,
   "metadata": {},
   "outputs": [
    {
     "name": "stdout",
     "output_type": "stream",
     "text": [
      "{'Name': {'kim'}, 'Age': {'19'}, 'Statue': {'single'}}\n"
     ]
    }
   ],
   "source": [
    "name = input(\"enter your name\")\n",
    "age = input(\"enter your age\")\n",
    "statue = input(\"enter your statue\")\n",
    "\n",
    "thisdic = {\n",
    "    \"Name\": {name},\n",
    "    \"Age\": {age},\n",
    "    \"Statue\": {statue},\n",
    "}\n",
    "\n",
    "print(thisdic)"
   ]
  },
  {
   "cell_type": "code",
   "execution_count": 10,
   "metadata": {},
   "outputs": [
    {
     "name": "stdout",
     "output_type": "stream",
     "text": [
      "{'hero type': 'Carl, the Invoker', 'type of hero': 'Magic', 'health': '120', 'mana': '75'}\n"
     ]
    }
   ],
   "source": [
    "dota2 = {\n",
    "    \"hero type\": \"Carl, the Invoker\",\n",
    "    \"type of hero\": \"Magic\",\n",
    "    \"health\": \"120\",\n",
    "    \"mana\": \"75\",\n",
    "}\n",
    "\n",
    "print(dota2)"
   ]
  },
  {
   "cell_type": "code",
   "execution_count": null,
   "metadata": {},
   "outputs": [
    {
     "name": "stdout",
     "output_type": "stream",
     "text": [
      "enter your name: fg\n",
      "enter yout number: 324\n",
      "enter your name: er\n",
      "enter yout number: 2324\n",
      "enter your name: tp\n",
      "enter yout number: 3565\n",
      "{'Contact 1': {'Name': {'fg'}, 'phone': {'324'}}, 'Contact 2': {'Name': {'er'}, 'phone': {'2324'}}, 'Contact 3': {'Name': {'tp'}, 'phone': {'3565'}}}\n",
      "contact does not exist\n"
     ]
    }
   ],
   "source": [
    "# Collecting user input\n",
    "name = input(\"Enter your name: \")\n",
    "phone = input(\"Enter your phone: \")\n",
    "\n",
    "name2 = input(\"Enter your name2: \")\n",
    "phone2 = input(\"Enter your phone2: \")\n",
    "\n",
    "name3 = input(\"Enter your name3: \")  \n",
    "phone3 = input(\"Enter your phone3: \")\n",
    "\n",
    "# Printing the entered data\n",
    "print(f\"Enter your name: {name}\")\n",
    "print(f\"Enter your number: {phone}\")\n",
    "\n",
    "print(f\"Enter your name: {name2}\")\n",
    "print(f\"Enter your number: {phone2}\")\n",
    "\n",
    "print(f\"Enter your name: {name3}\")\n",
    "print(f\"Enter your number: {phone3}\")\n",
    "\n",
    "# Storing contacts in a dictionary\n",
    "address_book = {\n",
    "    \"Contact 1\": {\"Name\": name, \"Phone\": phone},\n",
    "    \"Contact 2\": {\"Name\": name2, \"Phone\": phone2},\n",
    "    \"Contact 3\": {\"Name\": name3, \"Phone\": phone3},\n",
    "}\n",
    "\n",
    "print(address_book)\n",
    "\n",
    "# Looking up a contact\n",
    "look_up = input(\"Lookup name: \")\n",
    "\n",
    "found = False\n",
    "for contact in address_book.values():\n",
    "    if contact[\"Name\"] == look_up:\n",
    "        print(f\"Number: {contact['Phone']}\")\n",
    "        found = True\n",
    "        break\n",
    "\n",
    "if not found:\n",
    "    print(\"Contact does not exist.\")\n"
   ]
  },
  {
   "cell_type": "code",
   "execution_count": 30,
   "metadata": {},
   "outputs": [
    {
     "name": "stdout",
     "output_type": "stream",
     "text": [
      "\n",
      "Hero: Axe\n",
      "Primary Attribute: Strength\n",
      "Role(s): Initiator, Tank\n",
      "Abilities: Berserker’s Call, Battle Hunger, Counter Helix, Culling Blade\n"
     ]
    }
   ],
   "source": [
    "dota_heroes = {\n",
    "    \"Invoker\": {\n",
    "        \"Primary Attribute\": \"Intelligence\",\n",
    "        \"Role\": [\"Mid\", \"Nuker\", \"Disabler\"],\n",
    "        \"Abilities\": [\"Quas\", \"Wex\", \"Exort\", \"Invoke\"]\n",
    "    },\n",
    "    \"Juggernaut\": {\n",
    "        \"Primary Attribute\": \"Agility\",\n",
    "        \"Role\": [\"Carry\", \"Pusher\"],\n",
    "        \"Abilities\": [\"Blade Fury\", \"Healing Ward\", \"Blade Dance\", \"Omnislash\"]\n",
    "    },\n",
    "    \"Axe\": {\n",
    "        \"Primary Attribute\": \"Strength\",\n",
    "        \"Role\": [\"Initiator\", \"Tank\"],\n",
    "        \"Abilities\": [\"Berserker’s Call\", \"Battle Hunger\", \"Counter Helix\", \"Culling Blade\"]\n",
    "    },\n",
    "    \"Crystal Maiden\": {\n",
    "        \"Primary Attribute\": \"Intelligence\",\n",
    "        \"Role\": [\"Support\", \"Disabler\"],\n",
    "        \"Abilities\": [\"Crystal Nova\", \"Frostbite\", \"Arcane Aura\", \"Freezing Field\"]\n",
    "    },\n",
    "    \"Phantom Assassin\": {\n",
    "        \"Primary Attribute\": \"Agility\",\n",
    "        \"Role\": [\"Carry\", \"Escape\"],\n",
    "        \"Abilities\": [\"Stifling Dagger\", \"Phantom Strike\", \"Blur\", \"Coup de Grace\"]\n",
    "    },\n",
    "    \"Earthshaker\": {\n",
    "        \"Primary Attribute\": \"Strength\",\n",
    "        \"Role\": [\"Support\", \"Initiator\", \"Disabler\"],\n",
    "        \"Abilities\": [\"Fissure\", \"Enchant Totem\", \"Aftershock\", \"Echo Slam\"]\n",
    "    }\n",
    "}\n",
    "\n",
    "# Example: Looking up a hero's details\n",
    "hero_name = input(\"Enter a Dota 2 hero name: \")\n",
    "\n",
    "if hero_name in dota_heroes:\n",
    "    hero_info = dota_heroes[hero_name]\n",
    "    print(f\"\\nHero: {hero_name}\")\n",
    "    print(f\"Primary Attribute: {hero_info['Primary Attribute']}\")\n",
    "    print(f\"Role(s): {', '.join(hero_info['Role'])}\")\n",
    "    print(f\"Abilities: {', '.join(hero_info['Abilities'])}\")\n",
    "else:\n",
    "    print(\"Hero not found in the database.\")\n"
   ]
  }
 ],
 "metadata": {
  "kernelspec": {
   "display_name": "Python 3",
   "language": "python",
   "name": "python3"
  },
  "language_info": {
   "codemirror_mode": {
    "name": "ipython",
    "version": 3
   },
   "file_extension": ".py",
   "mimetype": "text/x-python",
   "name": "python",
   "nbconvert_exporter": "python",
   "pygments_lexer": "ipython3",
   "version": "3.11.9"
  }
 },
 "nbformat": 4,
 "nbformat_minor": 2
}
