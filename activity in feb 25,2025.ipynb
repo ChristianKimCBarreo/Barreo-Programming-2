{
 "cells": [
  {
   "cell_type": "code",
   "execution_count": 7,
   "metadata": {},
   "outputs": [
    {
     "name": "stdout",
     "output_type": "stream",
     "text": [
      "Original sentence: The sun was shining brightly in the clear blue sky. I decided to take a walk in the park to enjoy the fresh air. Birds were chirping happily as the wind rustled the leaves. I sat on a bench and watched people jogging and children playing. It was a peaceful and refreshing way to start the day.\n",
      "Number of words in original sentence: 57\n"
     ]
    }
   ],
   "source": [
    "def word_frequency(sentence):\n",
    "    words = sentence.split()\n",
    "    return len(words)\n",
    "\n",
    "def main():\n",
    "    sentence = input(\"Enter the sentence: \")\n",
    "    word_count = word_frequency(sentence)\n",
    "\n",
    "    print(f\"Original sentence: {sentence}\")\n",
    "    print(\"Number of words in original sentence:\", word_count)\n",
    "\n",
    "main()"
   ]
  }
 ],
 "metadata": {
  "kernelspec": {
   "display_name": "Python 3",
   "language": "python",
   "name": "python3"
  },
  "language_info": {
   "codemirror_mode": {
    "name": "ipython",
    "version": 3
   },
   "file_extension": ".py",
   "mimetype": "text/x-python",
   "name": "python",
   "nbconvert_exporter": "python",
   "pygments_lexer": "ipython3",
   "version": "3.11.9"
  }
 },
 "nbformat": 4,
 "nbformat_minor": 2
}
